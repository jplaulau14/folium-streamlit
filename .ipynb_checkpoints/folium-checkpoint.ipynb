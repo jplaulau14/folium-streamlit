{
 "cells": [
  {
   "cell_type": "code",
   "execution_count": 5,
   "id": "069c1b98-1d95-4ce3-9203-da3698bb0dd6",
   "metadata": {},
   "outputs": [
    {
     "name": "stdout",
     "output_type": "stream",
     "text": [
      "Requirement already satisfied: folium in c:\\users\\patrick\\documents\\omdena\\challenges\\laguna local chapter\\folium-streamlit\\venv\\lib\\site-packages (0.13.0)\n",
      "Requirement already satisfied: numpy in c:\\users\\patrick\\documents\\omdena\\challenges\\laguna local chapter\\folium-streamlit\\venv\\lib\\site-packages (from folium) (1.23.4)\n",
      "Requirement already satisfied: branca>=0.3.0 in c:\\users\\patrick\\documents\\omdena\\challenges\\laguna local chapter\\folium-streamlit\\venv\\lib\\site-packages (from folium) (0.6.0)\n",
      "Requirement already satisfied: requests in c:\\users\\patrick\\documents\\omdena\\challenges\\laguna local chapter\\folium-streamlit\\venv\\lib\\site-packages (from folium) (2.28.1)\n",
      "Requirement already satisfied: jinja2>=2.9 in c:\\users\\patrick\\documents\\omdena\\challenges\\laguna local chapter\\folium-streamlit\\venv\\lib\\site-packages (from folium) (3.1.2)\n",
      "Requirement already satisfied: MarkupSafe>=2.0 in c:\\users\\patrick\\documents\\omdena\\challenges\\laguna local chapter\\folium-streamlit\\venv\\lib\\site-packages (from jinja2>=2.9->folium) (2.1.1)\n",
      "Requirement already satisfied: urllib3<1.27,>=1.21.1 in c:\\users\\patrick\\documents\\omdena\\challenges\\laguna local chapter\\folium-streamlit\\venv\\lib\\site-packages (from requests->folium) (1.26.12)\n",
      "Requirement already satisfied: charset-normalizer<3,>=2 in c:\\users\\patrick\\documents\\omdena\\challenges\\laguna local chapter\\folium-streamlit\\venv\\lib\\site-packages (from requests->folium) (2.1.1)\n",
      "Requirement already satisfied: idna<4,>=2.5 in c:\\users\\patrick\\documents\\omdena\\challenges\\laguna local chapter\\folium-streamlit\\venv\\lib\\site-packages (from requests->folium) (3.4)\n",
      "Requirement already satisfied: certifi>=2017.4.17 in c:\\users\\patrick\\documents\\omdena\\challenges\\laguna local chapter\\folium-streamlit\\venv\\lib\\site-packages (from requests->folium) (2022.9.24)\n"
     ]
    }
   ],
   "source": [
    "!pip install folium"
   ]
  },
  {
   "cell_type": "code",
   "execution_count": 6,
   "id": "70838a7d-0ef6-4eaa-9507-48839b292617",
   "metadata": {},
   "outputs": [
    {
     "ename": "ModuleNotFoundError",
     "evalue": "No module named 'folium'",
     "output_type": "error",
     "traceback": [
      "\u001b[1;31m---------------------------------------------------------------------------\u001b[0m",
      "\u001b[1;31mModuleNotFoundError\u001b[0m                       Traceback (most recent call last)",
      "Cell \u001b[1;32mIn [6], line 1\u001b[0m\n\u001b[1;32m----> 1\u001b[0m \u001b[38;5;28;01mimport\u001b[39;00m \u001b[38;5;21;01mfolium\u001b[39;00m\n\u001b[0;32m      2\u001b[0m \u001b[38;5;28;01mimport\u001b[39;00m \u001b[38;5;21;01mpandas\u001b[39;00m \u001b[38;5;28;01mas\u001b[39;00m \u001b[38;5;21;01mpd\u001b[39;00m\n",
      "\u001b[1;31mModuleNotFoundError\u001b[0m: No module named 'folium'"
     ]
    }
   ],
   "source": [
    "import folium\n",
    "import pandas as pd"
   ]
  },
  {
   "cell_type": "code",
   "execution_count": null,
   "id": "7952f021-a8d9-4bc8-abd2-82d8456c2747",
   "metadata": {},
   "outputs": [],
   "source": [
    "my_map = folium.Map(\n",
    "    location=[119.46694183349618,4.586939811706523],\n",
    "    zoom_start=2\n",
    ")\n",
    "my_map"
   ]
  }
 ],
 "metadata": {
  "kernelspec": {
   "display_name": "Python 3 (ipykernel)",
   "language": "python",
   "name": "python3"
  },
  "language_info": {
   "codemirror_mode": {
    "name": "ipython",
    "version": 3
   },
   "file_extension": ".py",
   "mimetype": "text/x-python",
   "name": "python",
   "nbconvert_exporter": "python",
   "pygments_lexer": "ipython3",
   "version": "3.9.13"
  }
 },
 "nbformat": 4,
 "nbformat_minor": 5
}
